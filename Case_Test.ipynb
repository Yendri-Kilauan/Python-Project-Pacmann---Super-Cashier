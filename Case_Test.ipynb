{
 "cells": [
  {
   "cell_type": "code",
   "execution_count": null,
   "id": "9b6a844a",
   "metadata": {},
   "outputs": [],
   "source": [
    "# Project Name : Python Project Pacmann - Super Cashier\n",
    "# Oleh         : Yendri Kilauan Purnama\n",
    "# Student      : #pacmann-peduli-awardee (Thank You Pacmann)\n",
    "# Batch        : 1"
   ]
  },
  {
   "cell_type": "code",
   "execution_count": 1,
   "id": "9bb713ba",
   "metadata": {},
   "outputs": [
    {
     "name": "stdout",
     "output_type": "stream",
     "text": [
      "Barang yang ditambahkan adalah 2 Ayam Goreng dengan harga peritemnya Rp20,000\n",
      "Barang yang ditambahkan adalah 3 Pasta Gigi dengan harga peritemnya Rp15,000\n"
     ]
    }
   ],
   "source": [
    "#import modul Super_Cashier\n",
    "\n",
    "import Super_Cashier as sc\n",
    "\n",
    "\n",
    "#test 1 (add_item())\n",
    "\n",
    "trnsct_123 = sc.Transaction()\n",
    "trnsct_123.add_item(\"Ayam Goreng\", 2, 20_000)\n",
    "trnsct_123.add_item(\"Pasta Gigi\", 3, 15_000)"
   ]
  },
  {
   "cell_type": "code",
   "execution_count": 2,
   "id": "b47ef5a4",
   "metadata": {},
   "outputs": [
    {
     "name": "stdout",
     "output_type": "stream",
     "text": [
      "| Nama Item   |   Jumlah Item |   Harga/Item |   Total Harga |\n",
      "|-------------|---------------|--------------|---------------|\n",
      "| Ayam Goreng |             2 |        20000 |         40000 |\n",
      "| Pasta Gigi  |             3 |        15000 |         45000 |\n"
     ]
    }
   ],
   "source": [
    "#cek data yang sudah masuk\n",
    "\n",
    "trnsct_123.print_item()"
   ]
  },
  {
   "cell_type": "code",
   "execution_count": 3,
   "id": "2c136fbe",
   "metadata": {},
   "outputs": [
    {
     "name": "stdout",
     "output_type": "stream",
     "text": [
      "| Nama Item   |   Jumlah Item |   Harga/Item |   Total Harga |\n",
      "|-------------|---------------|--------------|---------------|\n",
      "| Ayam Goreng |             2 |        20000 |         40000 |\n"
     ]
    }
   ],
   "source": [
    "#test 2 (delete_item())\n",
    "\n",
    "trnsct_123.delete_item(\"Pasta Gigi\")"
   ]
  },
  {
   "cell_type": "code",
   "execution_count": 4,
   "id": "ec878a40",
   "metadata": {},
   "outputs": [
    {
     "name": "stdout",
     "output_type": "stream",
     "text": [
      "Semua data transaksi telah berhasil dihapus\n",
      "\n",
      "| Nama Item   | Jumlah Item   | Harga/Item   | Total Harga   |\n",
      "|-------------|---------------|--------------|---------------|\n"
     ]
    }
   ],
   "source": [
    "#test 3 (reset_transaction)\n",
    "\n",
    "trnsct_123.reset_transaction()"
   ]
  },
  {
   "cell_type": "code",
   "execution_count": 5,
   "id": "89a1f1ab",
   "metadata": {},
   "outputs": [
    {
     "name": "stdout",
     "output_type": "stream",
     "text": [
      "Barang yang ditambahkan adalah 2 Ayam Goreng dengan harga peritemnya Rp20,000\n",
      "Barang yang ditambahkan adalah 3 Pasta Gigi dengan harga peritemnya Rp15,000\n",
      "Barang yang ditambahkan adalah 1 Mainan Mobil dengan harga peritemnya Rp200,000\n",
      "Barang yang ditambahkan adalah 5 Mi Instan dengan harga peritemnya Rp3,000\n",
      "Karena total belanjaan senilai Rp. 300,000,\n",
      "maka mendapat diskon 5%\n",
      "Sehingga total belanja yang harus dibayar menjadi Rp285,000.0\n"
     ]
    }
   ],
   "source": [
    "#test 4 (total_price())\n",
    "\n",
    "#tambahkan kembali data yang sudah di reset\n",
    "trnsct_123.add_item(\"Ayam Goreng\", 2, 20_000)\n",
    "trnsct_123.add_item(\"Pasta Gigi\", 3, 15_000)\n",
    "trnsct_123.add_item(\"Mainan Mobil\", 1, 200_000)\n",
    "trnsct_123.add_item(\"Mi Instan\", 5, 3_000)\n",
    "\n",
    "\n",
    "trnsct_123.total_price()"
   ]
  }
 ],
 "metadata": {
  "kernelspec": {
   "display_name": "Python 3 (ipykernel)",
   "language": "python",
   "name": "python3"
  },
  "language_info": {
   "codemirror_mode": {
    "name": "ipython",
    "version": 3
   },
   "file_extension": ".py",
   "mimetype": "text/x-python",
   "name": "python",
   "nbconvert_exporter": "python",
   "pygments_lexer": "ipython3",
   "version": "3.11.3"
  }
 },
 "nbformat": 4,
 "nbformat_minor": 5
}
